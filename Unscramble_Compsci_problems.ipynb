{
 "cells": [
  {
   "cell_type": "code",
   "execution_count": 1,
   "metadata": {},
   "outputs": [
    {
     "output_type": "stream",
     "name": "stdout",
     "text": "Python 3.7.4\n"
    }
   ],
   "source": [
    "!python -V "
   ]
  },
  {
   "cell_type": "code",
   "execution_count": 2,
   "metadata": {},
   "outputs": [],
   "source": [
    "# Import built in csv library\n",
    "import csv"
   ]
  },
  {
   "cell_type": "code",
   "execution_count": 3,
   "metadata": {},
   "outputs": [],
   "source": [
    "# Read in files \n",
    "\n",
    "with open('texts.csv', 'r') as f:\n",
    "    reader = csv.reader(f)\n",
    "    texts = list(reader)\n",
    "\n",
    "with open('calls.csv', 'r') as f:\n",
    "    reader = csv.reader(f)\n",
    "    calls = list(reader)"
   ]
  },
  {
   "cell_type": "markdown",
   "metadata": {},
   "source": [
    "## Task 0 \n",
    "\n",
    "What is the first record of texts and what is the last record of calls?\n",
    "<br>\n",
    "* Print messages:\n",
    "\"First record of texts, <incoming number> texts <answering number> at time <time>\"\n",
    "    <br>\n",
    "\"Last record of calls, <incoming number> calls <answering number> at time <time>, lasting <during> seconds\""
   ]
  },
  {
   "cell_type": "code",
   "execution_count": 4,
   "metadata": {},
   "outputs": [],
   "source": [
    "# Inspect texts\n",
    "#for row in texts:\n",
    "    #print(row)"
   ]
  },
  {
   "cell_type": "code",
   "execution_count": 5,
   "metadata": {},
   "outputs": [],
   "source": [
    "# Inspect calls \n",
    "#for row in calls:\n",
    "    #print(row[:])"
   ]
  },
  {
   "cell_type": "code",
   "execution_count": 6,
   "metadata": {},
   "outputs": [
    {
     "output_type": "stream",
     "name": "stdout",
     "text": "First record of texts, 97424 22395 texts 90365 06212 at time 01-09-2016 06:03:22\n"
    }
   ],
   "source": [
    "print(f'First record of texts, {texts[0][0]} texts {texts[0][1]} at time {texts[0][2]}')"
   ]
  },
  {
   "cell_type": "code",
   "execution_count": 7,
   "metadata": {},
   "outputs": [
    {
     "output_type": "stream",
     "name": "stdout",
     "text": "Last record of calls, 98447 62998 calls (080)46304537 lasting seconds 2151\n"
    }
   ],
   "source": [
    "print(f'Last record of calls, {calls[-1][0]} calls {calls[-1][1]} lasting seconds {calls[-1][3]}')"
   ]
  },
  {
   "cell_type": "markdown",
   "metadata": {},
   "source": [
    "## Task 1\n",
    "<br>\n",
    "How many different telephone numbers are there in the records? \n",
    "<br>\n",
    "* Print a message:\n",
    "\"There are <count> different telephone numbers in the records.\""
   ]
  },
  {
   "cell_type": "code",
   "execution_count": 8,
   "metadata": {},
   "outputs": [
    {
     "output_type": "stream",
     "name": "stdout",
     "text": "There are 570 different telephone numbers in the records.\n"
    }
   ],
   "source": [
    "# To get a unique set of observations from containers - use the built-in data structure set() \n",
    "\n",
    "unique_telephone_numbers = set() \n",
    "\n",
    "texts_add_1 = [unique_telephone_numbers.add(texts[i][0]) for i in range(len(texts))]\n",
    "texts_add_2 = [unique_telephone_numbers.add(texts[i][1]) for i in range(len(texts))]\n",
    "calls_add_1 = [unique_telephone_numbers.add(calls[i][0]) for i in range(len(calls))]\n",
    "calls_add_2 = [unique_telephone_numbers.add(calls[i][1]) for i in range(len(calls))]\n",
    "\n",
    "print(f\"There are {len(unique_telephone_numbers)} different telephone numbers in the records.\")"
   ]
  },
  {
   "cell_type": "markdown",
   "metadata": {},
   "source": [
    "## Task 2"
   ]
  },
  {
   "cell_type": "markdown",
   "metadata": {},
   "source": [
    "Which telephone number spent the longest time on the phone\n",
    "during the period? Don't forget that time spent answering a call is\n",
    "also time spent on the phone.\n",
    "* Print a message:\n",
    "\"<telephone number> spent the longest time, <total time> seconds, on the phone during \n",
    "September 2016.\"\n",
    "\n",
    "Resources:\n",
    "* [Handling Datetimes](https://stackabuse.com/how-to-format-dates-in-python/)\n",
    "* [Using the Python defaultdict Type for Handling Missing Keys](https://realpython.com/python-defaultdict/)\n"
   ]
  },
  {
   "cell_type": "code",
   "execution_count": 9,
   "metadata": {},
   "outputs": [],
   "source": [
    "# Built-in library to parse dates that are handled as string originally\n",
    "# output as DD-MM-YY HH:MIN:S\n",
    "from datetime import datetime\n",
    "# Use defaultdict because there looks to be missing/null values for some observations which a normal dict() \n",
    "# cannot handle\n",
    "from collections import defaultdict\n",
    "\n",
    "calls_dict = defaultdict(int)\n",
    "\n",
    "for outgoing, incoming, timestamp, duration in calls:\n",
    "    date = datetime.strptime(timestamp, \"%d-%m-%Y %H:%M:%S\")\n",
    "    # use int given we're handling duration (time)\n",
    "    calls_dict[outgoing] += int(duration)\n",
    "    calls_dict[incoming] += int(duration)"
   ]
  },
  {
   "cell_type": "code",
   "execution_count": 10,
   "metadata": {},
   "outputs": [
    {
     "output_type": "stream",
     "name": "stdout",
     "text": "(080)33251027 spent the longest time, 90456 seconds, on the phone during September 2016\n"
    }
   ],
   "source": [
    "print(f'{max(calls_dict, key=calls_dict.get)} spent the longest time, {max(calls_dict.values())} seconds, \\\n",
    "on the phone during September 2016')"
   ]
  },
  {
   "cell_type": "code",
   "execution_count": 11,
   "metadata": {},
   "outputs": [],
   "source": [
    "# maximum = max(calls_dictionary, key=calls_dictionary.get) \n",
    "# maximum\n",
    "# print(maximum, calls_dictionary[maximum])"
   ]
  },
  {
   "cell_type": "markdown",
   "metadata": {},
   "source": [
    "## Task 3 "
   ]
  },
  {
   "cell_type": "markdown",
   "metadata": {},
   "source": [
    "(080) is the area code for fixed line telephones in Bangalore.\n",
    "Fixed line numbers include parentheses, so Bangalore numbers\n",
    "have the form (080)xxxxxxx.)\n",
    "<br>\n",
    "<br>\n",
    "Part A: Find all of the area codes and mobile prefixes called by people\n",
    "in Bangalore.\n",
    " - Fixed lines start with an area code enclosed in brackets. The area\n",
    "   codes vary in length but always begin with 0.\n",
    " - Mobile numbers have no parentheses, but have a space in the middle\n",
    "   of the number to help readability. The prefix of a mobile number\n",
    "   is its first four digits, and they always start with 7, 8 or 9.\n",
    " - Telemarketers' numbers have no parentheses or space, but they start\n",
    "   with the area code 140.\n",
    "\n",
    "Print the answer as part of a message:\n",
    "\"The numbers called by people in Bangalore have codes:\"\n",
    " <list of codes>\n",
    "The list of codes should be print out one per line in lexicographic order with no duplicates."
   ]
  },
  {
   "cell_type": "code",
   "execution_count": 12,
   "metadata": {},
   "outputs": [],
   "source": [
    "# Used for pattern matching\n",
    "import re "
   ]
  },
  {
   "cell_type": "code",
   "execution_count": 13,
   "metadata": {},
   "outputs": [],
   "source": [
    "# Filter for phones numbers with area code beginning with (080)\n",
    "called_code_numbers = []\n",
    "for call in calls:\n",
    "    if '(080)' in call[0]:\n",
    "        # Then Begin search for incoming numbers \n",
    "        match = re.search(r\"\\(\\w+\\)\", call[1])\n",
    "        if match:\n",
    "            called_code_numbers.append(match.group())\n",
    "        # finish with area codes and check all mobile numbers with no parentheses\n",
    "        if re.search(r\"^[7-9]\", call[1]):\n",
    "            match = re.search(r\"[0-9]+\", call[1])\n",
    "            called_code_numbers.append(match.group())"
   ]
  },
  {
   "cell_type": "code",
   "execution_count": 14,
   "metadata": {},
   "outputs": [
    {
     "output_type": "stream",
     "name": "stdout",
     "text": "The numbers called by people in Bangalore have codes:\n"
    },
    {
     "output_type": "execute_result",
     "data": {
      "text/plain": "['(022)',\n '(040)',\n '(04344)',\n '(044)',\n '(04546)',\n '(0471)',\n '(080)',\n '(0821)',\n '74062',\n '74064',\n '74066',\n '77956',\n '78130',\n '78135',\n '78293',\n '78295',\n '81510',\n '81513',\n '81515',\n '81517',\n '81524',\n '83013',\n '84312',\n '84313',\n '84319',\n '87146',\n '90087',\n '90088',\n '90192',\n '90194',\n '90196',\n '90199',\n '90351',\n '90355',\n '90365',\n '90368',\n '92414',\n '92415',\n '92421',\n '92423',\n '92429',\n '93412',\n '93414',\n '93426',\n '93427',\n '93428',\n '93432',\n '93434',\n '94001',\n '94002',\n '94005',\n '94480',\n '94482',\n '94488',\n '94491',\n '94495',\n '95263',\n '95266',\n '95267',\n '96569',\n '97380',\n '97386',\n '97402',\n '97406',\n '97410',\n '97415',\n '97416',\n '97418',\n '97422',\n '97424',\n '98440',\n '98442',\n '98443',\n '98445',\n '98446',\n '98447',\n '98448',\n '98458',\n '98459',\n '99001',\n '99003',\n '99004',\n '99612']"
     },
     "metadata": {},
     "execution_count": 14
    }
   ],
   "source": [
    "print(f\"The numbers called by people in Bangalore have codes:\")\n",
    "list(sorted(set(called_code_numbers)))"
   ]
  },
  {
   "cell_type": "markdown",
   "metadata": {},
   "source": [
    "Part B: What percentage of calls from fixed lines in Bangalore are made to fixed lines also in Bangalore? \n",
    "* In other words, of all the calls made from a number starting with \"(080)\", what percentage of these calls were made to a number also starting with \"(080)\"?\n",
    "\n",
    "<br>\n",
    "Print the answer as a part of a message:\n",
    "\"<percentage> percent of calls from fixed lines in Bangalore are calls\n",
    "to other fixed lines in Bangalore.\"\n",
    "The percentage should have 2 decimal digits"
   ]
  },
  {
   "cell_type": "code",
   "execution_count": 15,
   "metadata": {},
   "outputs": [],
   "source": [
    "# capture all calls from banglaore to any number, then capture calls only between Bangalore numbers \n",
    "total_calls = []\n",
    "b_b_calls = [] \n",
    "for call in calls:\n",
    "    if '(080)' in call[0]:\n",
    "        total_calls.append([call[0], call[1]])\n",
    "    if (('080') in call[0]) & (('080') in call[1]):\n",
    "        b_b_calls.append([call[0], call[1]])\n",
    "\n",
    "percent_calls = (len(b_b_calls)/(len(total_calls)))*100"
   ]
  },
  {
   "cell_type": "code",
   "execution_count": 16,
   "metadata": {},
   "outputs": [
    {
     "output_type": "stream",
     "name": "stdout",
     "text": "24.81 percent of calls from fixed lines in Bangalore are calls to other fixed lines in Bangalore\n"
    }
   ],
   "source": [
    "print(f'{percent_calls:.2f} percent of calls from fixed lines in Bangalore are calls to other fixed lines in Bangalore')"
   ]
  },
  {
   "cell_type": "markdown",
   "metadata": {},
   "source": [
    "## Task 4 "
   ]
  },
  {
   "cell_type": "markdown",
   "metadata": {},
   "source": [
    "   * The telephone company want to identify numbers that might be doing telephone marketing. Create a **set** of possible telemarketers: these are numbers that make outgoing calls but never send texts, receive texts or receive incoming calls.\n",
    "<br>\n",
    "<br>\n",
    "Print a message:\n",
    "\"These numbers could be telemarketers: \"\n",
    "<list of numbers>\n",
    "The list of numbers should be print out one per line in lexicographic order with no duplicates.\n"
   ]
  },
  {
   "cell_type": "code",
   "execution_count": 17,
   "metadata": {},
   "outputs": [],
   "source": [
    "telemarketers = []\n",
    "incoming_calls = []\n",
    "send_texts = [] \n",
    "receive_texts = []\n",
    "\n",
    "for incoming in calls:\n",
    "    incoming_calls.append(incoming[1])\n",
    "incoming_calls = set(incoming_calls)\n",
    "\n",
    "for send in texts:\n",
    "    send_texts.append(send[0])\n",
    "send_texts = set(send_texts)\n",
    "\n",
    "for receive in texts:\n",
    "    receive_texts.append(receive[1])\n",
    "receive_texts = set(receive_texts)"
   ]
  },
  {
   "cell_type": "code",
   "execution_count": 18,
   "metadata": {},
   "outputs": [],
   "source": [
    "# Now we're able to find set of marketers starting from outgoing 140 calls\n",
    "for call in calls:\n",
    "    caller = call[0]\n",
    "    if re.search(r\"^(140)\", caller):\n",
    "        telemarketers.append(caller)\n",
    "    # Next conditional that checks numbers that do not send (texts), receive (texts/calls) following from outgoing calls\n",
    "    if not (caller in incoming_calls or caller in send_texts or caller in receive_texts):\n",
    "        telemarketers.append(caller)\n",
    "\n",
    "telemarketers = sorted(set(telemarketers))"
   ]
  },
  {
   "cell_type": "code",
   "execution_count": 19,
   "metadata": {},
   "outputs": [
    {
     "output_type": "stream",
     "name": "stdout",
     "text": "These numbers could be telemarketers:\n"
    },
    {
     "output_type": "execute_result",
     "data": {
      "text/plain": "['(022)37572285',\n '(022)65548497',\n '(022)68535788',\n '(022)69042431',\n '(040)30429041',\n '(044)22020822',\n '(0471)2171438',\n '(0471)6579079',\n '(080)20383942',\n '(080)25820765',\n '(080)31606520',\n '(080)40362016',\n '(080)60463379',\n '(080)60998034',\n '(080)62963633',\n '(080)64015211',\n '(080)69887826',\n '(0821)3257740',\n '1400481538',\n '1401747654',\n '1402316533',\n '1403072432',\n '1403579926',\n '1404073047',\n '1404368883',\n '1404787681',\n '1407539117',\n '1408371942',\n '1408409918',\n '1408672243',\n '1409421631',\n '1409668775',\n '1409994233',\n '74064 66270',\n '78291 94593',\n '87144 55014',\n '90351 90193',\n '92414 69419',\n '94495 03761',\n '97404 30456',\n '97407 84573',\n '97442 45192',\n '99617 25274']"
     },
     "metadata": {},
     "execution_count": 19
    }
   ],
   "source": [
    "print(f\"These numbers could be telemarketers:\")\n",
    "list(telemarketers)"
   ]
  }
 ],
 "metadata": {
  "kernelspec": {
   "display_name": "Python 3.7.4 64-bit ('base': conda)",
   "language": "python",
   "name": "python37464bitbaseconda572c238c43e2438fb8a17e4e11af0079"
  },
  "language_info": {
   "codemirror_mode": {
    "name": "ipython",
    "version": 3
   },
   "file_extension": ".py",
   "mimetype": "text/x-python",
   "name": "python",
   "nbconvert_exporter": "python",
   "pygments_lexer": "ipython3",
   "version": "3.7.4-final"
  }
 },
 "nbformat": 4,
 "nbformat_minor": 2
}